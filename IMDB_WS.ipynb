{
 "cells": [
  {
   "cell_type": "code",
   "execution_count": 1,
   "metadata": {},
   "outputs": [],
   "source": [
    "import requests\n",
    "from bs4 import BeautifulSoup\n",
    "import re"
   ]
  },
  {
   "cell_type": "code",
   "execution_count": 4,
   "metadata": {},
   "outputs": [],
   "source": [
    "#year=[(('https://www.imdb.com/search/title?year=%s&title_type=feature&')%(y)) for y in range(2012,2018)]"
   ]
  },
  {
   "cell_type": "code",
   "execution_count": 2,
   "metadata": {},
   "outputs": [],
   "source": [
    "def get_ratings_box(year):\n",
    "    \n",
    "    url='https://www.imdb.com/search/title?title_type=feature&year=%s-01-01,%s-12-31&sort=boxoffice_gross_us,desc'%(year,year)\n",
    "    list_names=[]\n",
    "    list_ratings=[]\n",
    "    list_gross=[]\n",
    "    list_votes=[]\n",
    "    list_genre=[]\n",
    "    list_certificate=[]\n",
    "    list_length=[]\n",
    "        \n",
    "    gross=0\n",
    "    \n",
    "    while gross!='$0.00M':\n",
    "        response = requests.get(url)\n",
    "        results_page = BeautifulSoup(response.content,'lxml')\n",
    "    \n",
    "        next_page=results_page.find('div',attrs={\"class\":\"desc\"})\n",
    "        links=next_page.find_all('a')\n",
    "        for i in links:\n",
    "            link=i.get('href')\n",
    "            if link.endswith('t'):\n",
    "                next_page_link=link \n",
    "                url='https://www.imdb.com'+ next_page_link\n",
    "                #test\n",
    "                #print(next_page_link)\n",
    "           \n",
    "        rawnames=results_page.find_all('div',attrs={\"class\":\"lister-item-content\"}) \n",
    "        for row in rawnames:\n",
    "            names=row.find_all('h3',attrs={\"class\":\"lister-item-header\"}) \n",
    "            for name in names:\n",
    "                for x in name.find_all('a'):\n",
    "                    list_names.append(x.text)\n",
    "                for y in row.find_all('span',attrs={\"class\":\"genre\"}):\n",
    "                    list_genre.append(y.text.strip())\n",
    "                #for z in row.find_all('span',attrs={\"class\":\"runtime\"}):\n",
    "                    #list_length.append(z.text.strip())\n",
    "                #for w in row.find_all('span',attrs={\"class\":\"certificate\"}):\n",
    "                    #list_certificate.append(w.text.strip())\n",
    "                    \n",
    "        rawratings=results_page.find_all('div',attrs={\"class\":\"inline-block ratings-imdb-rating\"})\n",
    "        for row in rawratings:\n",
    "            ratings=row.get('data-value')\n",
    "            list_ratings.append(ratings)\n",
    "                        \n",
    "        rawdatavalues=results_page.find_all('div',attrs={\"class\":\"lister-item-content\"}) \n",
    "        for row in rawdatavalues:\n",
    "            datavalues=row.find_all('p',attrs={\"class\":\"sort-num_votes-visible\"}) \n",
    "            for datavalue in datavalues:\n",
    "                for y in datavalue.find_all('span',attrs={\"name\":\"nv\"}):\n",
    "                    if y.text.startswith('$'):\n",
    "                        gross=y.text\n",
    "                        grossdatavalue=y.get('data-value')\n",
    "                        list_gross.append(grossdatavalue)\n",
    "                        #test\n",
    "                        #print(gross)\n",
    "                    else:\n",
    "                        votes=y.text\n",
    "                        votesdatavalue=y.get('data-value')\n",
    "                        list_votes.append(votesdatavalue)\n",
    "                    \n",
    "        full_list=list(zip(list_names,list_genre,list_ratings,list_votes,list_gross))\n",
    "        \n",
    "    return full_list"
   ]
  },
  {
   "cell_type": "code",
   "execution_count": 3,
   "metadata": {},
   "outputs": [],
   "source": [
    "import pandas as pd"
   ]
  },
  {
   "cell_type": "code",
   "execution_count": 4,
   "metadata": {},
   "outputs": [],
   "source": [
    "year=2012\n",
    "list_2012=get_ratings_box(year)\n",
    "year=2013\n",
    "list_2013=get_ratings_box(year)\n",
    "year=2014\n",
    "list_2014=get_ratings_box(year)\n",
    "year=2015\n",
    "list_2015=get_ratings_box(year)\n",
    "year=2016\n",
    "list_2016=get_ratings_box(year)\n",
    "year=2017\n",
    "list_2017=get_ratings_box(year)"
   ]
  },
  {
   "cell_type": "code",
   "execution_count": 5,
   "metadata": {},
   "outputs": [],
   "source": [
    "names=[]\n",
    "genre=[]\n",
    "rating=[]\n",
    "votes=[]\n",
    "boxoffice=[]\n",
    "\n",
    "for i in list_2012:\n",
    "    names.append(i[0])\n",
    "    genre.append(i[1])\n",
    "    rating.append(i[2])\n",
    "    votes.append(i[3])\n",
    "    boxoffice.append(i[4])\n",
    "\n",
    "dict_={'Name':names,'Genre':genre,'Rating':rating,'Votes':votes,'BoxOffice':boxoffice,'Year':2012}\n",
    "df_2012=pd.DataFrame(dict_)"
   ]
  },
  {
   "cell_type": "code",
   "execution_count": 18,
   "metadata": {},
   "outputs": [],
   "source": [
    "df = df.reset_index(drop=True)"
   ]
  }
 ],
 "metadata": {
  "kernelspec": {
   "display_name": "Python 3",
   "language": "python",
   "name": "python3"
  },
  "language_info": {
   "codemirror_mode": {
    "name": "ipython",
    "version": 3
   },
   "file_extension": ".py",
   "mimetype": "text/x-python",
   "name": "python",
   "nbconvert_exporter": "python",
   "pygments_lexer": "ipython3",
   "version": "3.6.5"
  }
 },
 "nbformat": 4,
 "nbformat_minor": 2
}
