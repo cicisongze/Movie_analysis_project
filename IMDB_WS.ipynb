{
 "cells": [
  {
   "cell_type": "code",
   "execution_count": 2,
   "metadata": {},
   "outputs": [],
   "source": [
    "import requests\n",
    "from bs4 import BeautifulSoup\n",
    "import re"
   ]
  },
  {
   "cell_type": "code",
   "execution_count": 4,
   "metadata": {},
   "outputs": [],
   "source": [
    "#year=[(('https://www.imdb.com/search/title?year=%s&title_type=feature&')%(y)) for y in range(2012,2018)]"
   ]
  },
  {
   "cell_type": "code",
   "execution_count": 15,
   "metadata": {},
   "outputs": [],
   "source": [
    "def get_ratings_box(year):\n",
    "    \n",
    "    url='https://www.imdb.com/search/title?title_type=feature&year=%s-01-01,%s-12-31&sort=boxoffice_gross_us,desc'%(year,year)\n",
    "    list_names=[]\n",
    "    list_ratings=[]\n",
    "    list_gross=[]\n",
    "    list_votes=[]\n",
    "    list_genre=[]\n",
    "    list_certificate=[]\n",
    "    list_length=[]\n",
    "    list_year=[year]\n",
    "        \n",
    "    gross=0\n",
    "    \n",
    "    while gross!='$0.00M':\n",
    "        response = requests.get(url)\n",
    "        results_page = BeautifulSoup(response.content,'lxml')\n",
    "    \n",
    "        next_page=results_page.find('div',attrs={\"class\":\"desc\"})\n",
    "        links=next_page.find_all('a')\n",
    "        for i in links:\n",
    "            link=i.get('href')\n",
    "            if link.endswith('t'):\n",
    "                next_page_link=link \n",
    "                url='https://www.imdb.com'+ next_page_link\n",
    "                #test\n",
    "                #print(next_page_link)\n",
    "           \n",
    "        rawnames=results_page.find_all('div',attrs={\"class\":\"lister-item-content\"}) \n",
    "        for row in rawnames:\n",
    "            names=row.find_all('h3',attrs={\"class\":\"lister-item-header\"}) \n",
    "            for name in names:\n",
    "                for x in name.find_all('a'):\n",
    "                    list_names.append(x.text)\n",
    "                for y in row.find_all('span',attrs={\"class\":\"genre\"}):\n",
    "                    list_genre.append(y.text.strip())\n",
    "                #for z in row.find_all('span',attrs={\"class\":\"runtime\"}):\n",
    "                    #list_length.append(z.text.strip())\n",
    "                #for w in row.find_all('span',attrs={\"class\":\"certificate\"}):\n",
    "                    #list_certificate.append(w.text.strip())\n",
    "                    \n",
    "        rawratings=results_page.find_all('div',attrs={\"class\":\"inline-block ratings-imdb-rating\"})\n",
    "        for row in rawratings:\n",
    "            ratings=row.get('data-value')\n",
    "            list_ratings.append(ratings)\n",
    "                        \n",
    "        rawdatavalues=results_page.find_all('div',attrs={\"class\":\"lister-item-content\"}) \n",
    "        for row in rawdatavalues:\n",
    "            datavalues=row.find_all('p',attrs={\"class\":\"sort-num_votes-visible\"}) \n",
    "            for datavalue in datavalues:\n",
    "                for y in datavalue.find_all('span',attrs={\"name\":\"nv\"}):\n",
    "                    if y.text.startswith('$'):\n",
    "                        gross=y.text\n",
    "                        grossdatavalue=y.get('data-value')\n",
    "                        list_gross.append(grossdatavalue)\n",
    "                        #test\n",
    "                        #print(gross)\n",
    "                    else:\n",
    "                        votes=y.text\n",
    "                        votesdatavalue=y.get('data-value')\n",
    "                        list_votes.append(votesdatavalue)\n",
    "                    \n",
    "        full_list=list(zip(list_names,list_genre,list_ratings,list_votes,list_gross,[year for i in range(0,len(list_names))]))\n",
    "        \n",
    "    return full_list"
   ]
  },
  {
   "cell_type": "code",
   "execution_count": 4,
   "metadata": {},
   "outputs": [],
   "source": [
    "import pandas as pd"
   ]
  },
  {
   "cell_type": "code",
   "execution_count": 23,
   "metadata": {},
   "outputs": [],
   "source": [
    "list_=[]\n",
    "for i in range(2012,2018):\n",
    "    year=i\n",
    "    list_.append(get_ratings_box(i))"
   ]
  },
  {
   "cell_type": "code",
   "execution_count": 24,
   "metadata": {},
   "outputs": [],
   "source": [
    "names=[]\n",
    "genre=[]\n",
    "rating=[]\n",
    "votes=[]\n",
    "boxoffice=[]\n",
    "year=[]\n",
    "    \n",
    "for i in list_:\n",
    "    for s in i:\n",
    "        names.append(s[0])\n",
    "        genre.append(s[1])\n",
    "        rating.append(s[2])\n",
    "        votes.append(s[3])\n",
    "        boxoffice.append(s[4])\n",
    "        year.append(s[5])\n",
    "\n",
    "dict_={'Name':names,'Genre':genre,'Rating':rating,'Votes':votes,'BoxOffice':boxoffice,'Year':year}\n",
    "df=pd.DataFrame(dict_)\n",
    "df = df.reset_index(drop=True)"
   ]
  },
  {
   "cell_type": "code",
   "execution_count": 23,
   "metadata": {},
   "outputs": [],
   "source": [
    "# Create a Pandas Excel writer using XlsxWriter as the engine.\n",
    "writer = pd.ExcelWriter('IMDB.xlsx', engine='xlsxwriter')\n",
    "\n",
    "# Convert the dataframe to an XlsxWriter Excel object.\n",
    "df.to_excel(writer, sheet_name='movie_info')\n",
    "\n",
    "# Close the Pandas Excel writer and output the Excel file.\n",
    "writer.save()\n",
    "\n",
    "workbook  = writer.book\n",
    "worksheet = writer.sheets['movie_info']"
   ]
  }
 ],
 "metadata": {
  "kernelspec": {
   "display_name": "Python 3",
   "language": "python",
   "name": "python3"
  },
  "language_info": {
   "codemirror_mode": {
    "name": "ipython",
    "version": 3
   },
   "file_extension": ".py",
   "mimetype": "text/x-python",
   "name": "python",
   "nbconvert_exporter": "python",
   "pygments_lexer": "ipython3",
   "version": "3.6.5"
  }
 },
 "nbformat": 4,
 "nbformat_minor": 2
}
