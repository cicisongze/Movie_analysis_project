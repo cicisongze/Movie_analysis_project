{
 "cells": [
  {
   "cell_type": "code",
   "execution_count": null,
   "metadata": {},
   "outputs": [],
   "source": [
    "import requests\n",
    "from bs4 import BeautifulSoup\n",
    "import re"
   ]
  },
  {
   "cell_type": "code",
   "execution_count": null,
   "metadata": {},
   "outputs": [],
   "source": [
    "year=[(('https://www.imdb.com/search/title?year=%s&title_type=feature&')%(y)) for y in range(2012,2018)]"
   ]
  },
  {
   "cell_type": "code",
   "execution_count": null,
   "metadata": {},
   "outputs": [],
   "source": [
    "def get_ratings_box(year):\n",
    "    full_list=[]\n",
    "    \n",
    "    return full_list"
   ]
  },
  {
   "cell_type": "code",
   "execution_count": null,
   "metadata": {},
   "outputs": [],
   "source": [
    "url='https://www.imdb.com/search/title?title_type=feature&year=2012-01-01,2012-12-31&sort=boxoffice_gross_us,desc'\n",
    "response = requests.get(url)\n",
    "    results_page = BeautifulSoup(response.content,'lxml')\n",
    "    \n",
    "next_page=results_page.find('div',attrs={\"class\":\"desc\"})\n",
    "links=next_page.find_all('a')\n",
    "for i in links:\n",
    "        link=i.get('href')\n",
    "        if link.endswith('t'):\n",
    "            next_page_link=link \n",
    "            url='https://www.imdb.com'+ next_page_link\n",
    "            #test\n",
    "            print(next_page_link)\n",
    "           \n",
    "\n",
    "    for row in rawnames:\n",
    "        names=row.find_all('h3',attrs={\"class\":\"lister-item-header\"}) \n",
    "    for name in names:\n",
    "        for x in name.find_all('a'):\n",
    "                list_names.append(x.text)\n",
    "        for y in row.find_all('span',attrs={\"class\":\"genre\"}):\n",
    "                list_genre.append(y.text.strip())\n",
    "    \n",
    "rawratings=results_page.find_all('div',attrs={\"class\":\"inline-block ratings-imdb-rating\"})\n",
    "for row in rawratings:\n",
    "        ratings=row.get('data-value')\n",
    "        list_ratings.append(ratings)\n",
    "                        \n",
    "rawdatavalues=results_page.find_all('div',attrs={\"class\":\"lister-item-content\"}) \n",
    "for row in rawdatavalues:\n",
    "        datavalues=row.find_all('p',attrs={\"class\":\"sort-num_votes-visible\"}) \n",
    "    for datavalue in datavalues:\n",
    "        for y in datavalue.find_all('span',attrs={\"name\":\"nv\"}):\n",
    "            if y.text.startswith('$'):\n",
    "                    gross=y.get('data-value')\n",
    "                    list_gross.append(gross)\n",
    "            else:\n",
    "                    votes=y.get('data-value')\n",
    "                    list_votes.append(votes)\n",
    "        \n",
    "    \n",
    "    rawgrossvotes=results_page.find_all('span',attrs={\"name\":\"nv\"})\n",
    "    for row in rawgrossvotes:\n",
    "           gross=row.get('data-value')\n",
    "        #list_.append(gross)\n",
    "    list_votes= list_[0:][::2]\n",
    "    list_gross= list_[1:][::2]\n",
    "    \n",
    "Incomplete\n",
    "rawmeta=results_page.find_all('div',attrs={\"class\":\"inline-block ratings-metascore\"})\n",
    "for row in rawmeta:\n",
    "    for x in row.find_all('span',attrs={\"class\":\"metascore\"}):\n",
    "        else:\n",
    "            list_meta.append(x.text.strip())\n",
    "full_list=list(zip(list_names,list_genre,list_ratings,list_votes,list_gross))"
   ]
  }
 ],
 "metadata": {
  "kernelspec": {
   "display_name": "Python 3",
   "language": "python",
   "name": "python3"
  },
  "language_info": {
   "codemirror_mode": {
    "name": "ipython",
    "version": 3
   },
   "file_extension": ".py",
   "mimetype": "text/x-python",
   "name": "python",
   "nbconvert_exporter": "python",
   "pygments_lexer": "ipython3",
   "version": "3.6.5"
  }
 },
 "nbformat": 4,
 "nbformat_minor": 2
}
