{
 "cells": [
  {
   "cell_type": "code",
   "execution_count": 1,
   "metadata": {},
   "outputs": [],
   "source": [
    "import requests\n",
    "from bs4 import BeautifulSoup\n",
    "import re"
   ]
  },
  {
   "cell_type": "code",
   "execution_count": 2,
   "metadata": {},
   "outputs": [],
   "source": [
    "def money(year):\n",
    "    list_=list()\n",
    "    for page in range(1,3):\n",
    "        url='https://www.themoviedb.org/discover/movie?language=en&list_style=1&media_type=movie&page='+str(page)+'&primary_release_year=%s&sort_by=popularity.desc&vote_count.gte=0'%year\n",
    "        response = requests.get(url)\n",
    "    \n",
    "        if response.status_code != 200:\n",
    "            print(\"Wrong page!\")\n",
    "        else:\n",
    "            results_page = BeautifulSoup(response.content,'lxml')\n",
    "            sectors=results_page.find_all('div',{\"class\":'flex'})\n",
    "            for sector in sectors:\n",
    "                movie_link='https://www.themoviedb.org'+sector.find('a').get('href')\n",
    "                #print(movie_link)\n",
    "        \n",
    "                newresponse=requests.get(movie_link)\n",
    "                if newresponse.status_code != 200:\n",
    "                    print(\"Wrong page!\")\n",
    "                else:\n",
    "                    dict_=dict()\n",
    "                    results_page = BeautifulSoup(newresponse.content,'lxml')\n",
    "                    movie_name=results_page.find('h2').get_text()\n",
    "                    info=results_page.find('section',{\"class\":'facts left_column'})\n",
    "                    language=info.find_all('p')[3].get_text()\n",
    "                    runtime=info.find_all('p')[4].get_text()\n",
    "                    budget=info.find_all('p')[5].get_text()\n",
    "                    revenue=info.find_all('p')[6].get_text()\n",
    "                    \n",
    "                    list_.append((movie_name,language,runtime,budget,revenue))\n",
    "    return list_"
   ]
  },
  {
   "cell_type": "code",
   "execution_count": 3,
   "metadata": {},
   "outputs": [
    {
     "name": "stdout",
     "output_type": "stream",
     "text": [
      "42\n"
     ]
    }
   ],
   "source": [
    "print(len(money(2012)))\n",
    "list_2012=money(2012)\n",
    "# list_2012"
   ]
  },
  {
   "cell_type": "code",
   "execution_count": 4,
   "metadata": {
    "scrolled": true
   },
   "outputs": [],
   "source": [
    "language_2012=list()\n",
    "lang_2012_re=list()\n",
    "for i in range(len(list_2012)):\n",
    "    language_2012.append(list_2012[i][1])\n",
    "\n",
    "for j in language_2012:\n",
    "    pattern=r'English$'\n",
    "    match = re.findall(pattern, j)\n",
    "    lang_2012_re.append(match)\n",
    "# lang_2012_re"
   ]
  },
  {
   "cell_type": "code",
   "execution_count": 5,
   "metadata": {
    "scrolled": true
   },
   "outputs": [],
   "source": [
    "runtime_2012=list()\n",
    "runtime_2012_re=list()\n",
    "for i in range(len(list_2012)):\n",
    "    runtime_2012.append(list_2012[i][2])\n",
    "#runtime_2012\n",
    "\n",
    "for j in runtime_2012:\n",
    "    pattern=r'\\w+ \\w+m$'\n",
    "#     pattern=r'\\w+ \\w+$'\n",
    "    match = re.findall(pattern, j)\n",
    "    runtime_2012_re.append(match)\n",
    "# runtime_2012_re"
   ]
  },
  {
   "cell_type": "code",
   "execution_count": 6,
   "metadata": {},
   "outputs": [],
   "source": [
    "budget_2012=list()\n",
    "budget_2012_re=list()\n",
    "for i in range(len(list_2012)):\n",
    "    budget_2012.append(list_2012[i][3])\n",
    "\n",
    "for j in budget_2012:\n",
    "    pattern=r'\\d+'\n",
    "    match = re.findall(pattern, j)\n",
    "    budget_2012_re.append(match)\n",
    "# budget_2012_re"
   ]
  },
  {
   "cell_type": "code",
   "execution_count": 7,
   "metadata": {},
   "outputs": [],
   "source": [
    "revenue_2012=list()\n",
    "revenue_2012_re=list()\n",
    "for i in range(len(list_2012)):\n",
    "    revenue_2012.append(list_2012[i][4])\n",
    "\n",
    "for j in revenue_2012:\n",
    "    pattern=r'\\d+'\n",
    "    match = re.findall(pattern, j)\n",
    "    revenue_2012_re.append(match)\n",
    "# revenue_2012_re"
   ]
  },
  {
   "cell_type": "code",
   "execution_count": null,
   "metadata": {},
   "outputs": [],
   "source": []
  }
 ],
 "metadata": {
  "kernelspec": {
   "display_name": "Python 3",
   "language": "python",
   "name": "python3"
  },
  "language_info": {
   "codemirror_mode": {
    "name": "ipython",
    "version": 3
   },
   "file_extension": ".py",
   "mimetype": "text/x-python",
   "name": "python",
   "nbconvert_exporter": "python",
   "pygments_lexer": "ipython3",
   "version": "3.6.5"
  }
 },
 "nbformat": 4,
 "nbformat_minor": 2
}
