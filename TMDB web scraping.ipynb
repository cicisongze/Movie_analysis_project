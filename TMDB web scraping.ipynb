{
 "cells": [
  {
   "cell_type": "code",
   "execution_count": 1,
   "metadata": {},
   "outputs": [],
   "source": [
    "import requests\n",
    "from bs4 import BeautifulSoup\n",
    "import re\n",
    "import pandas as pd\n",
    "import numpy as np"
   ]
  },
  {
   "cell_type": "code",
   "execution_count": 3,
   "metadata": {},
   "outputs": [],
   "source": [
    "def money(year):\n",
    "    list_=list()\n",
    "    for page in range(1,31):\n",
    "        url='https://www.themoviedb.org/discover/movie?language=en&list_style=1&media_type=movie&page='+str(page)+'&primary_release_year=%s&sort_by=popularity.desc&vote_count.gte=0'%year\n",
    "        response = requests.get(url)\n",
    "    \n",
    "        #check validity of website\n",
    "        if response.status_code != 200:\n",
    "            print(\"Wrong page!\")\n",
    "        else:\n",
    "            results_page = BeautifulSoup(response.content,'lxml')\n",
    "            sectors=results_page.find_all('div',{\"class\":'flex'})\n",
    "            for sector in sectors:\n",
    "                movie_link='https://www.themoviedb.org'+sector.find('a').get('href')\n",
    "                #print(movie_link)\n",
    "        \n",
    "                newresponse=requests.get(movie_link)\n",
    "                if newresponse.status_code != 200:\n",
    "                    print(\"Wrong page!\")\n",
    "                else:\n",
    "                    dict_=dict()\n",
    "                    results_page = BeautifulSoup(newresponse.content,'lxml')\n",
    "                    movie_name=results_page.find('h2').get_text()\n",
    "                    info=results_page.find('section',{\"class\":'facts left_column'})\n",
    "#                     language=info.find_all('p')[3].get_text()\n",
    "                    find=info.find_all('p')\n",
    "                    for item in find:\n",
    "                        if 'Original Language' in item.get_text():\n",
    "                            language=item.get_text()\n",
    "                        elif 'Runtime' in item.get_text():\n",
    "                            runtime=item.get_text()\n",
    "                        elif 'Budget' in item.get_text():\n",
    "                            budget=item.get_text()\n",
    "                        elif 'Revenue' in item.get_text():\n",
    "                            revenue=item.get_text()\n",
    "                            \n",
    "#                     runtime=info.find_all('p')[4].get_text()\n",
    "#                     budget=info.find_all('p')[5].get_text()\n",
    "#                     revenue=info.find_all('p')[6].get_text()\n",
    "\n",
    "                    date=results_page.find('ul',{\"class\":'releases'}).get_text()\n",
    "                    pattern=r'\\w+\\s+\\d+,\\s\\d+'\n",
    "                    string=date\n",
    "                    match = re.search(pattern, string)\n",
    "                    release_date=match.group()\n",
    "\n",
    "                    list_.append((movie_name,language,runtime,budget,revenue,release_date))\n",
    "                    \n",
    "#                     list_.append((movie_name,language,runtime,budget,revenue,release_date))\n",
    "    return list_"
   ]
  },
  {
   "cell_type": "code",
   "execution_count": null,
   "metadata": {},
   "outputs": [],
   "source": []
  }
 ],
 "metadata": {
  "kernelspec": {
   "display_name": "Python 3",
   "language": "python",
   "name": "python3"
  },
  "language_info": {
   "codemirror_mode": {
    "name": "ipython",
    "version": 3
   },
   "file_extension": ".py",
   "mimetype": "text/x-python",
   "name": "python",
   "nbconvert_exporter": "python",
   "pygments_lexer": "ipython3",
   "version": "3.6.5"
  }
 },
 "nbformat": 4,
 "nbformat_minor": 2
}
